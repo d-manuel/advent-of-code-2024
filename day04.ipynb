{
 "cells": [
  {
   "cell_type": "code",
   "execution_count": 34,
   "id": "b475892e-30bf-403f-b4e0-e04b35f4bace",
   "metadata": {},
   "outputs": [],
   "source": [
    "f = open(\"input/day4-padded.txt\",\"r\") \n",
    "Lines = f.readlines()"
   ]
  },
  {
   "cell_type": "code",
   "execution_count": 35,
   "id": "142911ed-5a73-46ac-9977-12c0c8e79260",
   "metadata": {},
   "outputs": [],
   "source": [
    "# I added paddig to the data in vim directly, instead of modifying the input data here in the code itself"
   ]
  },
  {
   "cell_type": "code",
   "execution_count": 36,
   "id": "75ff4525-8a52-4f11-bf8a-63f387e2e9d8",
   "metadata": {
    "scrolled": true
   },
   "outputs": [],
   "source": [
    "count = 0\n",
    "for row in range(len(Lines)):\n",
    "    for col in range(len(Lines[row])):\n",
    "        # check forward:\n",
    "        #type(Lines[row][col])\n",
    "        #print(Lines[row][col])\n",
    "        # East\n",
    "        if Lines[row][col] == 'X' and Lines[row][col+1]== 'M' and Lines[row][col+2] == 'A' and Lines[row][col+3] == 'S':\n",
    "            count=count+1\n",
    "        # West\n",
    "        if Lines[row][col] == 'X' and Lines[row][col-1]== 'M' and Lines[row][col-2] == 'A' and Lines[row][col-3] == 'S':\n",
    "            count=count+1\n",
    "        # South\n",
    "        if Lines[row][col] == 'X' and Lines[row+1][col]== 'M' and Lines[row+2][col] == 'A' and Lines[row+3][col] == 'S':\n",
    "            count=count+1\n",
    "        # North\n",
    "        if Lines[row][col] == 'X' and Lines[row-1][col]== 'M' and Lines[row-2][col] == 'A' and Lines[row-3][col] == 'S':\n",
    "            count=count+1\n",
    "        # South-East\n",
    "        if Lines[row][col] == 'X' and Lines[row+1][col+1]== 'M' and Lines[row+2][col+2] == 'A' and Lines[row+3][col+3] == 'S':\n",
    "            count=count+1\n",
    "        # South-West\n",
    "        if Lines[row][col] == 'X' and Lines[row+1][col-1]== 'M' and Lines[row+2][col-2] == 'A' and Lines[row+3][col-3] == 'S':\n",
    "            count=count+1\n",
    "        # North-East\n",
    "        if Lines[row][col] == 'X' and Lines[row-1][col+1]== 'M' and Lines[row-2][col+2] == 'A' and Lines[row-3][col+3] == 'S':\n",
    "            count=count+1\n",
    "        # North-West\n",
    "        if Lines[row][col] == 'X' and Lines[row-1][col-1]== 'M' and Lines[row-2][col-2] == 'A' and Lines[row-3][col-3] == 'S':\n",
    "            count=count+1\n",
    "\n"
   ]
  },
  {
   "cell_type": "code",
   "execution_count": 37,
   "id": "b0a4719f-0e7f-4419-8bb5-2beb1319cb26",
   "metadata": {},
   "outputs": [
    {
     "data": {
      "text/plain": [
       "2414"
      ]
     },
     "execution_count": 37,
     "metadata": {},
     "output_type": "execute_result"
    }
   ],
   "source": [
    "count"
   ]
  },
  {
   "cell_type": "code",
   "execution_count": 38,
   "id": "d2c5ac67-0424-47bc-a7f6-8e6b94bdc45b",
   "metadata": {},
   "outputs": [],
   "source": [
    "xmas_count = 0;\n",
    "for row in range(len(Lines)):\n",
    "    for col in range(len(Lines[row])):\n",
    "        if Lines[row][col] != 'A':\n",
    "            continue;\n",
    "        if (((Lines[row-1][col-1]=='M' and Lines[row+1][col+1]=='S') or (Lines[row-1][col-1]=='S' and Lines[row+1][col+1]=='M')) \n",
    "              and  ((Lines[row-1][col+1]=='M' and Lines[row+1][col-1]=='S') or (Lines[row-1][col+1]=='S' and Lines[row+1][col-1]=='M'))):\n",
    "            xmas_count=xmas_count+1\n",
    "        "
   ]
  },
  {
   "cell_type": "code",
   "execution_count": 39,
   "id": "c4466ce0-3242-43e1-a066-4b8a619d8d42",
   "metadata": {},
   "outputs": [
    {
     "data": {
      "text/plain": [
       "1871"
      ]
     },
     "execution_count": 39,
     "metadata": {},
     "output_type": "execute_result"
    }
   ],
   "source": [
    "xmas_count"
   ]
  }
 ],
 "metadata": {
  "kernelspec": {
   "display_name": "Python 3 (ipykernel)",
   "language": "python",
   "name": "python3"
  },
  "language_info": {
   "codemirror_mode": {
    "name": "ipython",
    "version": 3
   },
   "file_extension": ".py",
   "mimetype": "text/x-python",
   "name": "python",
   "nbconvert_exporter": "python",
   "pygments_lexer": "ipython3",
   "version": "3.12.7"
  }
 },
 "nbformat": 4,
 "nbformat_minor": 5
}
